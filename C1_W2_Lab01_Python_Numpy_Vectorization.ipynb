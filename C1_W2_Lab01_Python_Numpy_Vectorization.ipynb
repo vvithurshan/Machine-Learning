{
  "nbformat": 4,
  "nbformat_minor": 0,
  "metadata": {
    "colab": {
      "provenance": [],
      "authorship_tag": "ABX9TyPefStNr9IO67p8bTUtRn8d",
      "include_colab_link": true
    },
    "kernelspec": {
      "name": "python3",
      "display_name": "Python 3"
    },
    "language_info": {
      "name": "python"
    }
  },
  "cells": [
    {
      "cell_type": "markdown",
      "metadata": {
        "id": "view-in-github",
        "colab_type": "text"
      },
      "source": [
        "<a href=\"https://colab.research.google.com/github/vvithurshan/Machine-Learning/blob/main/C1_W2_Lab01_Python_Numpy_Vectorization.ipynb\" target=\"_parent\"><img src=\"https://colab.research.google.com/assets/colab-badge.svg\" alt=\"Open In Colab\"/></a>"
      ]
    },
    {
      "cell_type": "code",
      "execution_count": 1,
      "metadata": {
        "id": "WFFNh2x9HiLQ"
      },
      "outputs": [],
      "source": [
        "import numpy as np"
      ]
    },
    {
      "cell_type": "code",
      "source": [
        "def my_dot(x, y):\n",
        "    product = 0\n",
        "    for i in range(len(x)):\n",
        "        product += x[i] * y[i]\n",
        "    return product"
      ],
      "metadata": {
        "id": "oQWOwXWsHmur"
      },
      "execution_count": 2,
      "outputs": []
    },
    {
      "cell_type": "code",
      "source": [
        "import time\n",
        "\n",
        "x = np.random.rand(100000000)\n",
        "y = np.random.rand(100000000)\n",
        "\n",
        "start = time.time()\n",
        "print(my_dot(x,y))\n",
        "end = time.time()\n",
        "t1 = end - start\n",
        "print(f\"Non-Vectorized version duration: {1000*(t1):.4f} ms \")\n",
        "\n",
        "start = time.time()\n",
        "print(np.dot(x,y))\n",
        "end = time.time()\n",
        "t2 = end - start\n",
        "print(f\"Vectorized version duration: {1000*(t2):.4f} ms \")\n",
        "\n",
        "print(f\"Vectorized code is {t1/t2} times faster than Non-Vectorized code\")"
      ],
      "metadata": {
        "colab": {
          "base_uri": "https://localhost:8080/"
        },
        "id": "zxSKWEpSH-AO",
        "outputId": "962662fc-afc8-4213-db88-b49d501d32d8"
      },
      "execution_count": 3,
      "outputs": [
        {
          "output_type": "stream",
          "name": "stdout",
          "text": [
            "25000328.326968946\n",
            "Non-Vectorized version duration: 36041.0082 ms \n",
            "25000328.326959297\n",
            "Vectorized version duration: 138.8836 ms \n",
            "Vectorized code is 259.5051586211632 times faster than Non-Vectorized code\n"
          ]
        }
      ]
    },
    {
      "cell_type": "code",
      "source": [
        "x = 0\n",
        "y = 0"
      ],
      "metadata": {
        "id": "A8n2xNGaIBoZ"
      },
      "execution_count": 4,
      "outputs": []
    },
    {
      "cell_type": "code",
      "source": [
        "%%bash\n",
        "\n",
        "cat <<EOF > function.c\n",
        "#include <stdio.h>\n",
        "#include <stdlib.h>\n",
        "\n",
        "double my_dot(double *x, double *y, int n) {\n",
        "  double sum = 0.0;\n",
        "  for (int i = 0; i < n; i++) {\n",
        "    sum += x[i] * y[i];\n",
        "  }\n",
        "  return sum;\n",
        "}\n",
        "\n",
        "int main() {\n",
        "  int n = 100000000;\n",
        "  double *x = malloc(n * sizeof(double));\n",
        "  double *y = malloc(n * sizeof(double));\n",
        "\n",
        "  for (int i = 0; i < n; i++) {\n",
        "    x[i] = rand() / (double)RAND_MAX;\n",
        "    y[i] = rand() / (double)RAND_MAX;\n",
        "  }\n",
        "\n",
        "  // Non-vectorized version\n",
        "  double start = time.time();\n",
        "  double dot_product = my_dot(x, y, n);\n",
        "  double end = time.time();\n",
        "  double t1 = end - start;\n",
        "  printf(\"Non-Vectorized version duration: %.4f ms\\n\", 1000 * t1);\n",
        "\n",
        "  // Vectorized version\n",
        "  start = time.time();\n",
        "  double dot_product_vectorized = np.dot(x, y);\n",
        "  end = time.time();\n",
        "  double t2 = end - start;\n",
        "  printf(\"Vectorized version duration: %.4f ms\\n\", 1000 * t2);\n",
        "\n",
        "  printf(\"Vectorized code is %.2f times faster than Non-Vectorized code\\n\", t1 / t2);\n",
        "\n",
        "  free(x);\n",
        "  free(y);\n",
        "\n",
        "  return 0;\n",
        "}\n",
        "\n",
        "EOF"
      ],
      "metadata": {
        "id": "X2-yF6GOKiRS"
      },
      "execution_count": 7,
      "outputs": []
    },
    {
      "cell_type": "code",
      "source": [
        "!g++ function.c"
      ],
      "metadata": {
        "colab": {
          "base_uri": "https://localhost:8080/"
        },
        "id": "pC_OoWoKKqrw",
        "outputId": "476a4f9f-7429-48f7-9e7c-5b60f3c9f12c"
      },
      "execution_count": 8,
      "outputs": [
        {
          "output_type": "stream",
          "name": "stdout",
          "text": [
            "\u001b[01m\u001b[Kfunction.c:\u001b[m\u001b[K In function ‘\u001b[01m\u001b[Kint main()\u001b[m\u001b[K’:\n",
            "\u001b[01m\u001b[Kfunction.c:14:21:\u001b[m\u001b[K \u001b[01;31m\u001b[Kerror: \u001b[m\u001b[Kinvalid conversion from ‘\u001b[01m\u001b[Kvoid*\u001b[m\u001b[K’ to ‘\u001b[01m\u001b[Kdouble*\u001b[m\u001b[K’ [\u001b[01;31m\u001b[K-fpermissive\u001b[m\u001b[K]\n",
            "   14 |   double *x = \u001b[01;31m\u001b[Kmalloc(n * sizeof(double))\u001b[m\u001b[K;\n",
            "      |               \u001b[01;31m\u001b[K~~~~~~^~~~~~~~~~~~~~~~~~~~\u001b[m\u001b[K\n",
            "      |                     \u001b[01;31m\u001b[K|\u001b[m\u001b[K\n",
            "      |                     \u001b[01;31m\u001b[Kvoid*\u001b[m\u001b[K\n",
            "\u001b[01m\u001b[Kfunction.c:15:21:\u001b[m\u001b[K \u001b[01;31m\u001b[Kerror: \u001b[m\u001b[Kinvalid conversion from ‘\u001b[01m\u001b[Kvoid*\u001b[m\u001b[K’ to ‘\u001b[01m\u001b[Kdouble*\u001b[m\u001b[K’ [\u001b[01;31m\u001b[K-fpermissive\u001b[m\u001b[K]\n",
            "   15 |   double *y = \u001b[01;31m\u001b[Kmalloc(n * sizeof(double))\u001b[m\u001b[K;\n",
            "      |               \u001b[01;31m\u001b[K~~~~~~^~~~~~~~~~~~~~~~~~~~\u001b[m\u001b[K\n",
            "      |                     \u001b[01;31m\u001b[K|\u001b[m\u001b[K\n",
            "      |                     \u001b[01;31m\u001b[Kvoid*\u001b[m\u001b[K\n",
            "\u001b[01m\u001b[Kfunction.c:23:18:\u001b[m\u001b[K \u001b[01;31m\u001b[Kerror: \u001b[m\u001b[K‘\u001b[01m\u001b[Ktime\u001b[m\u001b[K’ was not declared in this scope; did you mean ‘\u001b[01m\u001b[Ktime_t\u001b[m\u001b[K’?\n",
            "   23 |   double start = \u001b[01;31m\u001b[Ktime\u001b[m\u001b[K.time();\n",
            "      |                  \u001b[01;31m\u001b[K^~~~\u001b[m\u001b[K\n",
            "      |                  \u001b[32m\u001b[Ktime_t\u001b[m\u001b[K\n",
            "\u001b[01m\u001b[Kfunction.c:31:35:\u001b[m\u001b[K \u001b[01;31m\u001b[Kerror: \u001b[m\u001b[K‘\u001b[01m\u001b[Knp\u001b[m\u001b[K’ was not declared in this scope; did you mean ‘\u001b[01m\u001b[Kn\u001b[m\u001b[K’?\n",
            "   31 |   double dot_product_vectorized = \u001b[01;31m\u001b[Knp\u001b[m\u001b[K.dot(x, y);\n",
            "      |                                   \u001b[01;31m\u001b[K^~\u001b[m\u001b[K\n",
            "      |                                   \u001b[32m\u001b[Kn\u001b[m\u001b[K\n"
          ]
        }
      ]
    },
    {
      "cell_type": "code",
      "source": [],
      "metadata": {
        "id": "BJwAQyKILL9B"
      },
      "execution_count": null,
      "outputs": []
    }
  ]
}